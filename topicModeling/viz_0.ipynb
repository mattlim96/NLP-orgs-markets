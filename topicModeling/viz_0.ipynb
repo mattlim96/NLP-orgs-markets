{
 "cells": [
  {
   "cell_type": "markdown",
   "metadata": {},
   "source": [
    "## Libraries"
   ]
  },
  {
   "cell_type": "code",
   "execution_count": 2,
   "metadata": {},
   "outputs": [],
   "source": [
    "import nltk\n",
    "from nltk.corpus import stopwords\n",
    "#nltk.download('stopwords')\n",
    "import re\n",
    "from sklearn.datasets import fetch_20newsgroups\n",
    "import numpy as np\n",
    "import tomotopy as tp\n",
    "import pyLDAvis\n",
    "import pandas as pd"
   ]
  },
  {
   "cell_type": "markdown",
   "metadata": {},
   "source": [
    "## Data loading"
   ]
  },
  {
   "cell_type": "code",
   "execution_count": 3,
   "metadata": {},
   "outputs": [],
   "source": [
    "df = pd.read_csv('../sampleData/tripadvisorReviews/hotel_reviews.csv')"
   ]
  },
  {
   "cell_type": "code",
   "execution_count": 4,
   "metadata": {},
   "outputs": [
    {
     "data": {
      "text/html": [
       "<div>\n",
       "<style scoped>\n",
       "    .dataframe tbody tr th:only-of-type {\n",
       "        vertical-align: middle;\n",
       "    }\n",
       "\n",
       "    .dataframe tbody tr th {\n",
       "        vertical-align: top;\n",
       "    }\n",
       "\n",
       "    .dataframe thead th {\n",
       "        text-align: right;\n",
       "    }\n",
       "</style>\n",
       "<table border=\"1\" class=\"dataframe\">\n",
       "  <thead>\n",
       "    <tr style=\"text-align: right;\">\n",
       "      <th></th>\n",
       "      <th>Review</th>\n",
       "      <th>Rating</th>\n",
       "    </tr>\n",
       "  </thead>\n",
       "  <tbody>\n",
       "    <tr>\n",
       "      <th>0</th>\n",
       "      <td>nice hotel expensive parking got good deal sta...</td>\n",
       "      <td>4</td>\n",
       "    </tr>\n",
       "    <tr>\n",
       "      <th>1</th>\n",
       "      <td>ok nothing special charge diamond member hilto...</td>\n",
       "      <td>2</td>\n",
       "    </tr>\n",
       "    <tr>\n",
       "      <th>2</th>\n",
       "      <td>nice rooms not 4* experience hotel monaco seat...</td>\n",
       "      <td>3</td>\n",
       "    </tr>\n",
       "    <tr>\n",
       "      <th>3</th>\n",
       "      <td>unique, great stay, wonderful time hotel monac...</td>\n",
       "      <td>5</td>\n",
       "    </tr>\n",
       "    <tr>\n",
       "      <th>4</th>\n",
       "      <td>great stay great stay, went seahawk game aweso...</td>\n",
       "      <td>5</td>\n",
       "    </tr>\n",
       "  </tbody>\n",
       "</table>\n",
       "</div>"
      ],
      "text/plain": [
       "                                              Review  Rating\n",
       "0  nice hotel expensive parking got good deal sta...       4\n",
       "1  ok nothing special charge diamond member hilto...       2\n",
       "2  nice rooms not 4* experience hotel monaco seat...       3\n",
       "3  unique, great stay, wonderful time hotel monac...       5\n",
       "4  great stay great stay, went seahawk game aweso...       5"
      ]
     },
     "execution_count": 4,
     "metadata": {},
     "output_type": "execute_result"
    }
   ],
   "source": [
    "df.head()"
   ]
  },
  {
   "cell_type": "markdown",
   "metadata": {},
   "source": [
    "## Text pre-processing"
   ]
  },
  {
   "cell_type": "code",
   "execution_count": 6,
   "metadata": {},
   "outputs": [],
   "source": [
    "porter_stemmer = nltk.PorterStemmer().stem\n",
    "english_stops = set(porter_stemmer(w) for w in stopwords.words('english'))\n",
    "pat = re.compile('^[a-z]{2,}$')\n",
    "corpus = tp.utils.Corpus(\n",
    "    tokenizer=tp.utils.SimpleTokenizer(porter_stemmer), \n",
    "    stopwords=lambda x: x in english_stops or not pat.match(x)\n",
    ")\n",
    "corpus.save('../sampleData/tripadvisorReviews/hotel_reviews_clena.cps')"
   ]
  },
  {
   "cell_type": "markdown",
   "metadata": {},
   "source": [
    "## Model setup"
   ]
  },
  {
   "cell_type": "code",
   "execution_count": 6,
   "metadata": {},
   "outputs": [
    {
     "data": {
      "text/plain": [
       "20491"
      ]
     },
     "execution_count": 6,
     "metadata": {},
     "output_type": "execute_result"
    }
   ],
   "source": [
    "reviews = df['Review'].tolist()\n",
    "corpus.process(doc.lower() for doc in reviews)"
   ]
  },
  {
   "cell_type": "code",
   "execution_count": 11,
   "metadata": {},
   "outputs": [
    {
     "name": "stdout",
     "output_type": "stream",
     "text": [
      "Num docs:20491, Num Vocabs:9545, Total Words:1445015\n",
      "Removed Top words:  hotel room stay great good staff night locat nice day time clean servic restaur beach walk breakfast place food like resort pool help bed realli love area friendli peopl excel book bar want small recommend littl got view bathroom look\n"
     ]
    }
   ],
   "source": [
    "mdl = tp.LDAModel(min_df=5, rm_top=40, k=9, corpus=corpus)\n",
    "mdl.train(0)\n",
    "\n",
    "print('Num docs:{}, Num Vocabs:{}, Total Words:{}'.format(\n",
    "    len(mdl.docs), len(mdl.used_vocabs), mdl.num_words\n",
    "))\n",
    "print('Removed Top words: ', *mdl.removed_top_words)"
   ]
  },
  {
   "cell_type": "markdown",
   "metadata": {},
   "source": [
    "## Model training"
   ]
  },
  {
   "cell_type": "code",
   "execution_count": 12,
   "metadata": {},
   "outputs": [
    {
     "name": "stdout",
     "output_type": "stream",
     "text": [
      "Iteration: 0000, LL per word: -10.18\n",
      "Iteration: 0020, LL per word: -8.537\n",
      "Iteration: 0040, LL per word: -8.346\n",
      "Iteration: 0060, LL per word: -8.277\n",
      "Iteration: 0080, LL per word: -8.24\n",
      "Iteration: 0100, LL per word: -8.216\n",
      "Iteration: 0120, LL per word: -8.2\n",
      "Iteration: 0140, LL per word: -8.187\n",
      "Iteration: 0160, LL per word: -8.18\n",
      "Iteration: 0180, LL per word: -8.174\n",
      "Iteration: 0200, LL per word: -8.167\n",
      "Iteration: 0220, LL per word: -8.163\n",
      "Iteration: 0240, LL per word: -8.161\n",
      "Iteration: 0260, LL per word: -8.158\n",
      "Iteration: 0280, LL per word: -8.155\n",
      "Iteration: 0300, LL per word: -8.152\n",
      "Iteration: 0320, LL per word: -8.149\n",
      "Iteration: 0340, LL per word: -8.15\n",
      "Iteration: 0360, LL per word: -8.145\n",
      "Iteration: 0380, LL per word: -8.146\n",
      "Iteration: 0400, LL per word: -8.142\n",
      "Iteration: 0420, LL per word: -8.138\n",
      "Iteration: 0440, LL per word: -8.139\n",
      "Iteration: 0460, LL per word: -8.141\n",
      "Iteration: 0480, LL per word: -8.141\n",
      "Iteration: 0500, LL per word: -8.138\n",
      "Iteration: 0520, LL per word: -8.138\n",
      "Iteration: 0540, LL per word: -8.14\n",
      "Iteration: 0560, LL per word: -8.136\n",
      "Iteration: 0580, LL per word: -8.138\n",
      "Iteration: 0600, LL per word: -8.135\n",
      "Iteration: 0620, LL per word: -8.136\n",
      "Iteration: 0640, LL per word: -8.134\n",
      "Iteration: 0660, LL per word: -8.132\n",
      "Iteration: 0680, LL per word: -8.133\n",
      "Iteration: 0700, LL per word: -8.132\n",
      "Iteration: 0720, LL per word: -8.133\n",
      "Iteration: 0740, LL per word: -8.131\n",
      "Iteration: 0760, LL per word: -8.131\n",
      "Iteration: 0780, LL per word: -8.131\n",
      "Iteration: 0800, LL per word: -8.132\n",
      "Iteration: 0820, LL per word: -8.13\n",
      "Iteration: 0840, LL per word: -8.131\n",
      "Iteration: 0860, LL per word: -8.13\n",
      "Iteration: 0880, LL per word: -8.131\n",
      "Iteration: 0900, LL per word: -8.131\n",
      "Iteration: 0920, LL per word: -8.132\n",
      "Iteration: 0940, LL per word: -8.131\n",
      "Iteration: 0960, LL per word: -8.133\n",
      "Iteration: 0980, LL per word: -8.129\n",
      "Iteration: 1000, LL per word: -8.131\n",
      "<Basic Info>\n",
      "| LDAModel (current version: 0.12.2)\n",
      "| 20491 docs, 1445015 words\n",
      "| Total Vocabs: 35121, Used Vocabs: 9545\n",
      "| Entropy of words: 7.56949\n",
      "| Entropy of term-weighted words: 7.56949\n",
      "| Removed Vocabs: hotel room stay great good staff night locat nice day time clean servic restaur beach walk breakfast place food like resort pool help bed realli love area friendli peopl excel book bar want small recommend littl got view bathroom look\n",
      "|\n",
      "<Training Info>\n",
      "| Iterations: 1000, Burn-in steps: 0\n",
      "| Optimization Interval: 10\n",
      "| Log-likelihood per word: -8.13114\n",
      "|\n",
      "<Initial Parameters>\n",
      "| tw: TermWeight.ONE\n",
      "| min_cf: 0 (minimum collection frequency of words)\n",
      "| min_df: 5 (minimum document frequency of words)\n",
      "| rm_top: 40 (the number of top words to be removed)\n",
      "| k: 9 (the number of topics between 1 ~ 32767)\n",
      "| alpha: [0.1] (hyperparameter of Dirichlet distribution for document-topic, given as a single `float` in case of symmetric prior and as a list with length `k` of `float` in case of asymmetric prior.)\n",
      "| eta: 0.01 (hyperparameter of Dirichlet distribution for topic-word)\n",
      "| seed: 3800938003 (random seed)\n",
      "| trained in version 0.12.2\n",
      "|\n",
      "<Parameters>\n",
      "| alpha (Dirichlet prior on the per-document topic distributions)\n",
      "|  [0.58239543 0.3012051  0.267008   0.39523232 0.20824486 0.13466789\n",
      "|   0.23602524 0.4127233  0.2805827 ]\n",
      "| eta (Dirichlet prior on the per-topic word distribution)\n",
      "|  0.01\n",
      "|\n",
      "<Topics>\n",
      "| #0 (224241) : review price expect star travel\n",
      "| #1 (321483) : drink water buffet beauti vacat\n",
      "| #2 (124323) : citi station minut shop barcelona\n",
      "| #3 (174785) : floor shower tv door nois\n",
      "| #4 (99667) : park car san free street\n",
      "| #5 (60852) : coffe amsterdam fruit tea station\n",
      "| #6 (97303) : wonder comfort pari new citi\n",
      "| #7 (224502) : check arriv ask desk told\n",
      "| #8 (117859) : beauti wonder fantast best suit\n",
      "|\n",
      "\n"
     ]
    }
   ],
   "source": [
    "for i in range(0, 1000, 20):\n",
    "    print('Iteration: {:04}, LL per word: {:.4}'.format(i, mdl.ll_per_word))\n",
    "    mdl.train(20)\n",
    "print('Iteration: {:04}, LL per word: {:.4}'.format(1000, mdl.ll_per_word))\n",
    "mdl.summary()"
   ]
  },
  {
   "cell_type": "markdown",
   "metadata": {},
   "source": [
    "## Visualization"
   ]
  },
  {
   "cell_type": "code",
   "execution_count": 15,
   "metadata": {},
   "outputs": [],
   "source": [
    "topic_term_dists = np.stack([mdl.get_topic_word_dist(k) for k in range(mdl.k)])\n",
    "doc_topic_dists = np.stack([doc.get_topic_dist() for doc in mdl.docs])\n",
    "doc_topic_dists /= doc_topic_dists.sum(axis=1, keepdims=True)\n",
    "doc_lengths = np.array([len(doc.words) for doc in mdl.docs])\n",
    "vocab = list(mdl.used_vocabs)\n",
    "term_frequency = mdl.used_vocab_freq"
   ]
  },
  {
   "cell_type": "code",
   "execution_count": 17,
   "metadata": {},
   "outputs": [
    {
     "name": "stderr",
     "output_type": "stream",
     "text": [
      "/home/simone/anaconda3/envs/nlp/lib/python3.9/site-packages/pyLDAvis/_prepare.py:246: FutureWarning: In a future version of pandas all arguments of DataFrame.drop except for the argument 'labels' will be keyword-only.\n",
      "  default_term_info = default_term_info.sort_values(\n"
     ]
    }
   ],
   "source": [
    "prepared_data = pyLDAvis.prepare(\n",
    "    topic_term_dists, \n",
    "    doc_topic_dists, \n",
    "    doc_lengths, \n",
    "    vocab, \n",
    "    term_frequency,\n",
    "    start_index=0, # tomotopy starts topic ids with 0, pyLDAvis with 1\n",
    "    sort_topics=False # IMPORTANT: otherwise the topic_ids between pyLDAvis and tomotopy are not matching!\n",
    ")"
   ]
  },
  {
   "cell_type": "code",
   "execution_count": null,
   "metadata": {},
   "outputs": [],
   "source": [
    "pyLDAvis.save_html(prepared_data, 'ldavis.html')"
   ]
  }
 ],
 "metadata": {
  "kernelspec": {
   "display_name": "Python 3.9.12 ('nlp')",
   "language": "python",
   "name": "python3"
  },
  "language_info": {
   "codemirror_mode": {
    "name": "ipython",
    "version": 3
   },
   "file_extension": ".py",
   "mimetype": "text/x-python",
   "name": "python",
   "nbconvert_exporter": "python",
   "pygments_lexer": "ipython3",
   "version": "3.9.12"
  },
  "orig_nbformat": 4,
  "vscode": {
   "interpreter": {
    "hash": "3198774d478c92d6e1ad3a290c11f1e70354ee6bb5c8401b09dc4dd7ec0758c9"
   }
  }
 },
 "nbformat": 4,
 "nbformat_minor": 2
}
